{
 "cells": [
  {
   "cell_type": "code",
   "execution_count": 37,
   "metadata": {},
   "outputs": [],
   "source": [
    "import torch\n",
    "import torch.nn as nn\n",
    "from torch.optim import SGD\n"
   ]
  },
  {
   "cell_type": "code",
   "execution_count": 38,
   "metadata": {},
   "outputs": [],
   "source": [
    "x = [[1,2],[3,4],[5,6],[7,8]]\n",
    "y = [[3],[7],[11],[15]]"
   ]
  },
  {
   "cell_type": "code",
   "execution_count": 39,
   "metadata": {},
   "outputs": [],
   "source": [
    "device = 'cuda'"
   ]
  },
  {
   "cell_type": "code",
   "execution_count": 40,
   "metadata": {},
   "outputs": [],
   "source": [
    "X = torch.tensor(x).float().to(device=device)\n",
    "Y = torch.tensor(y).float().to(device=device)"
   ]
  },
  {
   "cell_type": "code",
   "execution_count": 41,
   "metadata": {},
   "outputs": [],
   "source": [
    "class MyNeuralNet(nn.Module):\n",
    "    def __init__(self) -> None:\n",
    "        super().__init__()\n",
    "        self.input_to_hidden1 = nn.Linear(2, 8)\n",
    "        self.hidden1_activation = nn.ReLU()\n",
    "        self.hiddden1_to_output = nn.Linear(8, 1)\n",
    "    def forward(self, x):\n",
    "        x = self.input_to_hidden1(x)\n",
    "        x = self.hidden1_activation(x)\n",
    "        x = self.hiddden1_to_output(x)\n",
    "        return x\n",
    "    \n",
    "net = MyNeuralNet().to(device=device)"
   ]
  },
  {
   "cell_type": "code",
   "execution_count": 42,
   "metadata": {},
   "outputs": [],
   "source": [
    "def mse_loss(y_hat, y):\n",
    "    return torch.mean(torch.pow((y_hat - y), 2))"
   ]
  },
  {
   "cell_type": "code",
   "execution_count": 43,
   "metadata": {},
   "outputs": [],
   "source": [
    "no_of_epochs = 50\n",
    "optimizer = SGD(net.parameters(), lr=0.001)"
   ]
  },
  {
   "cell_type": "code",
   "execution_count": 44,
   "metadata": {},
   "outputs": [],
   "source": [
    "loss_history = []\n",
    "for _ in range(no_of_epochs):\n",
    "    optimizer.zero_grad()\n",
    "    y_hat = net(X)\n",
    "    loss = mse_loss(y_hat, Y)\n",
    "    loss.backward()\n",
    "    optimizer.step()\n",
    "    loss_history.append(loss)"
   ]
  },
  {
   "cell_type": "code",
   "execution_count": 45,
   "metadata": {},
   "outputs": [
    {
     "data": {
      "text/plain": [
       "[tensor(72.0457, device='cuda:0', grad_fn=<MeanBackward0>),\n",
       " tensor(58.3752, device='cuda:0', grad_fn=<MeanBackward0>),\n",
       " tensor(45.9694, device='cuda:0', grad_fn=<MeanBackward0>),\n",
       " tensor(34.8622, device='cuda:0', grad_fn=<MeanBackward0>),\n",
       " tensor(25.2836, device='cuda:0', grad_fn=<MeanBackward0>),\n",
       " tensor(17.4558, device='cuda:0', grad_fn=<MeanBackward0>),\n",
       " tensor(11.4523, device='cuda:0', grad_fn=<MeanBackward0>),\n",
       " tensor(7.1481, device='cuda:0', grad_fn=<MeanBackward0>),\n",
       " tensor(4.2598, device='cuda:0', grad_fn=<MeanBackward0>),\n",
       " tensor(2.4364, device='cuda:0', grad_fn=<MeanBackward0>),\n",
       " tensor(1.3469, device='cuda:0', grad_fn=<MeanBackward0>),\n",
       " tensor(0.7247, device='cuda:0', grad_fn=<MeanBackward0>),\n",
       " tensor(0.3822, device='cuda:0', grad_fn=<MeanBackward0>),\n",
       " tensor(0.1988, device='cuda:0', grad_fn=<MeanBackward0>),\n",
       " tensor(0.1028, device='cuda:0', grad_fn=<MeanBackward0>),\n",
       " tensor(0.0533, device='cuda:0', grad_fn=<MeanBackward0>),\n",
       " tensor(0.0280, device='cuda:0', grad_fn=<MeanBackward0>),\n",
       " tensor(0.0153, device='cuda:0', grad_fn=<MeanBackward0>),\n",
       " tensor(0.0089, device='cuda:0', grad_fn=<MeanBackward0>),\n",
       " tensor(0.0057, device='cuda:0', grad_fn=<MeanBackward0>),\n",
       " tensor(0.0041, device='cuda:0', grad_fn=<MeanBackward0>),\n",
       " tensor(0.0033, device='cuda:0', grad_fn=<MeanBackward0>),\n",
       " tensor(0.0029, device='cuda:0', grad_fn=<MeanBackward0>),\n",
       " tensor(0.0027, device='cuda:0', grad_fn=<MeanBackward0>),\n",
       " tensor(0.0025, device='cuda:0', grad_fn=<MeanBackward0>),\n",
       " tensor(0.0025, device='cuda:0', grad_fn=<MeanBackward0>),\n",
       " tensor(0.0025, device='cuda:0', grad_fn=<MeanBackward0>),\n",
       " tensor(0.0024, device='cuda:0', grad_fn=<MeanBackward0>),\n",
       " tensor(0.0024, device='cuda:0', grad_fn=<MeanBackward0>),\n",
       " tensor(0.0024, device='cuda:0', grad_fn=<MeanBackward0>),\n",
       " tensor(0.0024, device='cuda:0', grad_fn=<MeanBackward0>),\n",
       " tensor(0.0024, device='cuda:0', grad_fn=<MeanBackward0>),\n",
       " tensor(0.0024, device='cuda:0', grad_fn=<MeanBackward0>),\n",
       " tensor(0.0024, device='cuda:0', grad_fn=<MeanBackward0>),\n",
       " tensor(0.0024, device='cuda:0', grad_fn=<MeanBackward0>),\n",
       " tensor(0.0024, device='cuda:0', grad_fn=<MeanBackward0>),\n",
       " tensor(0.0024, device='cuda:0', grad_fn=<MeanBackward0>),\n",
       " tensor(0.0023, device='cuda:0', grad_fn=<MeanBackward0>),\n",
       " tensor(0.0023, device='cuda:0', grad_fn=<MeanBackward0>),\n",
       " tensor(0.0023, device='cuda:0', grad_fn=<MeanBackward0>),\n",
       " tensor(0.0023, device='cuda:0', grad_fn=<MeanBackward0>),\n",
       " tensor(0.0023, device='cuda:0', grad_fn=<MeanBackward0>),\n",
       " tensor(0.0023, device='cuda:0', grad_fn=<MeanBackward0>),\n",
       " tensor(0.0023, device='cuda:0', grad_fn=<MeanBackward0>),\n",
       " tensor(0.0023, device='cuda:0', grad_fn=<MeanBackward0>),\n",
       " tensor(0.0023, device='cuda:0', grad_fn=<MeanBackward0>),\n",
       " tensor(0.0023, device='cuda:0', grad_fn=<MeanBackward0>),\n",
       " tensor(0.0023, device='cuda:0', grad_fn=<MeanBackward0>),\n",
       " tensor(0.0023, device='cuda:0', grad_fn=<MeanBackward0>),\n",
       " tensor(0.0023, device='cuda:0', grad_fn=<MeanBackward0>)]"
      ]
     },
     "execution_count": 45,
     "metadata": {},
     "output_type": "execute_result"
    }
   ],
   "source": [
    "loss_history"
   ]
  },
  {
   "cell_type": "code",
   "execution_count": 47,
   "metadata": {},
   "outputs": [
    {
     "data": {
      "text/plain": [
       "[<matplotlib.lines.Line2D at 0x7f2e5db84910>]"
      ]
     },
     "execution_count": 47,
     "metadata": {},
     "output_type": "execute_result"
    },
    {
     "data": {
      "image/png": "[encoded data removed]",
      "text/plain": [
       "<Figure size 640x480 with 1 Axes>"
      ]
     },
     "metadata": {},
     "output_type": "display_data"
    }
   ],
   "source": [
    "import matplotlib.pyplot as plt\n",
    "\n",
    "loss_history_cpu = [l.detach().cpu().numpy() for l in loss_history]\n",
    "\n",
    "plt.plot(loss_history_cpu)"
   ]
  }
 ],
 "metadata": {
  "kernelspec": {
   "display_name": "Python 3",
   "language": "python",
   "name": "python3"
  },
  "language_info": {
   "codemirror_mode": {
    "name": "ipython",
    "version": 3
   },
   "file_extension": ".py",
   "mimetype": "text/x-python",
   "name": "python",
   "nbconvert_exporter": "python",
   "pygments_lexer": "ipython3",
   "version": "3.10.6"
  },
  "orig_nbformat": 4
 },
 "nbformat": 4,
 "nbformat_minor": 2
}
