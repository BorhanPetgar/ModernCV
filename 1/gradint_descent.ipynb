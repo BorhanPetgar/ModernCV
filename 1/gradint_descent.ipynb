{
 "cells": [
  {
   "cell_type": "code",
   "execution_count": 1,
   "metadata": {},
   "outputs": [],
   "source": [
    "import torch\n",
    "import numpy as np\n",
    "import matplotlib.pyplot as plt"
   ]
  },
  {
   "cell_type": "code",
   "execution_count": null,
   "metadata": {},
   "outputs": [],
   "source": [
    "# y_hat = x.w + b\n",
    "def feed_forward(x, w, y):\n",
    "    input_first_node = torch.dot(x, w[0]) + w[1]\n",
    "    activation_function = torch.sigmoid(input_first_node)\n",
    "    first_node_output = torch.dot(activation_function, w[2]) + w[3]\n",
    "    mse = torch.mean(torch.square(first_node_output - y))\n",
    "    return mse"
   ]
  }
 ],
 "metadata": {
  "kernelspec": {
   "display_name": "Python 3",
   "language": "python",
   "name": "python3"
  },
  "language_info": {
   "codemirror_mode": {
    "name": "ipython",
    "version": 3
   },
   "file_extension": ".py",
   "mimetype": "text/x-python",
   "name": "python",
   "nbconvert_exporter": "python",
   "pygments_lexer": "ipython3",
   "version": "3.10.6"
  },
  "orig_nbformat": 4
 },
 "nbformat": 4,
 "nbformat_minor": 2
}
