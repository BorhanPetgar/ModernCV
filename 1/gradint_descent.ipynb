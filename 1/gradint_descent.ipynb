{
 "cells": [
  {
   "cell_type": "code",
   "execution_count": 1,
   "metadata": {},
   "outputs": [],
   "source": [
    "import torch\n",
    "import numpy as np\n",
    "import matplotlib.pyplot as plt\n",
    "from copy import deepcopy"
   ]
  },
  {
   "cell_type": "code",
   "execution_count": 3,
   "metadata": {},
   "outputs": [],
   "source": [
    "class NeuralNet():\n",
    "    def __init__(self, x, w, y, lr) -> None:\n",
    "        self.x = x\n",
    "        self.w = w\n",
    "        self. y = y\n",
    "        self.lr = lr\n",
    "    def feedforward(self):\n",
    "        pass\n",
    "    def backprop(self):\n",
    "        pass"
   ]
  },
  {
   "cell_type": "code",
   "execution_count": null,
   "metadata": {},
   "outputs": [],
   "source": [
    "# y_hat = x.w + b\n",
    "def feed_forward(x, w, y):\n",
    "    input_first_node = torch.dot(x, w[0]) + w[1]\n",
    "    activation_function = torch.sigmoid(input_first_node)\n",
    "    first_node_output = torch.dot(activation_function, w[2]) + w[3]\n",
    "    mse = torch.mean(torch.square(first_node_output - y))\n",
    "    return mse"
   ]
  },
  {
   "attachments": {},
   "cell_type": "markdown",
   "metadata": {},
   "source": [
    "#### an example of .backward"
   ]
  },
  {
   "cell_type": "code",
   "execution_count": null,
   "metadata": {},
   "outputs": [
    {
     "name": "stdout",
     "output_type": "stream",
     "text": [
      "tensor([170.])\n",
      "tensor([170.], grad_fn=<MulBackward0>)\n"
     ]
    }
   ],
   "source": [
    "a = torch.tensor([3.], requires_grad=True)\n",
    "b = torch.tensor([5.])\n",
    "c = torch.tensor([2.])\n",
    "# d = (a*b + c)  ** 2\n",
    "d = (a * b + c) ** 2\n",
    "\n",
    "d.backward()\n",
    "print(a.grad)\n",
    "print(2 * (a*b + c)*b)"
   ]
  },
  {
   "cell_type": "code",
   "execution_count": null,
   "metadata": {},
   "outputs": [],
   "source": [
    "def backprop(x, w, y, lr):\n",
    "    \n",
    "    \n",
    "            "
   ]
  },
  {
   "cell_type": "code",
   "execution_count": null,
   "metadata": {},
   "outputs": [],
   "source": [
    "x = torch.rand(5, 4)\n",
    "w = torch.rand(4, 4)"
   ]
  }
 ],
 "metadata": {
  "kernelspec": {
   "display_name": "Python 3",
   "language": "python",
   "name": "python3"
  },
  "language_info": {
   "codemirror_mode": {
    "name": "ipython",
    "version": 3
   },
   "file_extension": ".py",
   "mimetype": "text/x-python",
   "name": "python",
   "nbconvert_exporter": "python",
   "pygments_lexer": "ipython3",
   "version": "3.10.6"
  },
  "orig_nbformat": 4
 },
 "nbformat": 4,
 "nbformat_minor": 2
}
