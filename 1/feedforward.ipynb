{
 "cells": [
  {
   "cell_type": "code",
   "execution_count": 11,
   "metadata": {},
   "outputs": [],
   "source": [
    "import numpy as np\n",
    "import torch"
   ]
  },
  {
   "cell_type": "code",
   "execution_count": 53,
   "metadata": {},
   "outputs": [],
   "source": [
    "# weight[1] and weight[3] are biases \n",
    "# weight[0] and weight[2] are weights between input and hidden layer and hidden layer and  ouput\n",
    "def feed_forward(weights, features, outputs):\n",
    "    print(features.shape)\n",
    "    pre_hidden = torch.dot(weights[0], features) + weights[1]\n",
    "    print(pre_hidden.shape)\n",
    "    hidden = torch.sigmoid(pre_hidden)\n",
    "    pred_out = torch.dot(hidden, weights[2]) + weights[3]\n",
    "    mean_squared_error = torch.mean(torch.square(pred_out - outputs))\n",
    "    return mean_squared_error"
   ]
  },
  {
   "cell_type": "code",
   "execution_count": 54,
   "metadata": {},
   "outputs": [
    {
     "name": "stdout",
     "output_type": "stream",
     "text": [
      "torch.Size([3])\n",
      "torch.Size([3])\n",
      "Mean Squared Error: 0.2398439645767212\n"
     ]
    }
   ],
   "source": [
    "# Define sample input features and outputs\n",
    "\n",
    "# features = torch.tensor([0.5, 0.4, 0.3])\n",
    "# outputs = torch.tensor([0.2])\n",
    "features = torch.rand(3)\n",
    "outputs = torch.rand(1)\n",
    "\n",
    "# weights = torch.tensor([[1.0, 0.2, 0.4], [0.3, 0.7, 0.1], [0.7, 0.1, 0.5], [0.8, 0.4, 0.5]])\n",
    "weights = torch.rand(4, 3)\n",
    "\n",
    "# Compute mean squared error using the feed_forward function\n",
    "mean_squared_error = feed_forward(weights, features, outputs)\n",
    "print('Mean Squared Error:', mean_squared_error.item())"
   ]
  }
 ],
 "metadata": {
  "kernelspec": {
   "display_name": "Python 3",
   "language": "python",
   "name": "python3"
  },
  "language_info": {
   "codemirror_mode": {
    "name": "ipython",
    "version": 3
   },
   "file_extension": ".py",
   "mimetype": "text/x-python",
   "name": "python",
   "nbconvert_exporter": "python",
   "pygments_lexer": "ipython3",
   "version": "3.10.6"
  },
  "orig_nbformat": 4
 },
 "nbformat": 4,
 "nbformat_minor": 2
}
