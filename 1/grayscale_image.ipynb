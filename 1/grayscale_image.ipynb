{
 "cells": [
  {
   "cell_type": "code",
   "execution_count": 1,
   "metadata": {},
   "outputs": [],
   "source": [
    "import torch\n",
    "import cv2\n",
    "import matplotlib.pyplot as plt"
   ]
  },
  {
   "cell_type": "code",
   "execution_count": 3,
   "metadata": {},
   "outputs": [
    {
     "name": "stdout",
     "output_type": "stream",
     "text": [
      "--2023-06-05 12:09:33--  https://www.dropbox.com/s/l98leemr7r5stnm/Hemanvi.jpeg\n",
      "Resolving www.dropbox.com (www.dropbox.com)... 162.125.72.18, 2620:100:6027:18::a27d:4812\n",
      "Connecting to www.dropbox.com (www.dropbox.com)|162.125.72.18|:443... connected.\n",
      "HTTP request sent, awaiting response... 302 Found\n",
      "Location: /s/raw/l98leemr7r5stnm/Hemanvi.jpeg [following]\n",
      "--2023-06-05 12:09:35--  https://www.dropbox.com/s/raw/l98leemr7r5stnm/Hemanvi.jpeg\n",
      "Reusing existing connection to www.dropbox.com:443.\n",
      "HTTP request sent, awaiting response... 302 Found\n",
      "Location: https://uc93d5ee867bc4d41c9471c84939.dl.dropboxusercontent.com/cd/0/inline/B9bzj1q6biYX9FdCkL1nA7XtSG2C6lqlRN8z-pBofm72CYsL9TA3ilU174i0OoJP4Jc-k5l7cweobys6GFM5TkEMKwtvZQ6nM0dt3AfFrzkU7y1t0hvt7TV__Gwdy52kWPQOEowIHdNpeqKTVemH6YxLpup-kY7U-2cHS-Rc-eX8mg/file# [following]\n",
      "--2023-06-05 12:09:35--  https://uc93d5ee867bc4d41c9471c84939.dl.dropboxusercontent.com/cd/0/inline/B9bzj1q6biYX9FdCkL1nA7XtSG2C6lqlRN8z-pBofm72CYsL9TA3ilU174i0OoJP4Jc-k5l7cweobys6GFM5TkEMKwtvZQ6nM0dt3AfFrzkU7y1t0hvt7TV__Gwdy52kWPQOEowIHdNpeqKTVemH6YxLpup-kY7U-2cHS-Rc-eX8mg/file\n",
      "Resolving uc93d5ee867bc4d41c9471c84939.dl.dropboxusercontent.com (uc93d5ee867bc4d41c9471c84939.dl.dropboxusercontent.com)... 162.125.66.15, 2620:100:6027:15::a27d:480f\n",
      "Connecting to uc93d5ee867bc4d41c9471c84939.dl.dropboxusercontent.com (uc93d5ee867bc4d41c9471c84939.dl.dropboxusercontent.com)|162.125.66.15|:443... connected.\n",
      "HTTP request sent, awaiting response... 200 OK\n",
      "Length: 53839 (53K) [image/jpeg]\n",
      "Saving to: ‘Hemanvi.jpeg’\n",
      "\n",
      "Hemanvi.jpeg        100%[===================>]  52.58K   203KB/s    in 0.3s    \n",
      "\n",
      "2023-06-05 12:09:37 (203 KB/s) - ‘Hemanvi.jpeg’ saved [53839/53839]\n",
      "\n"
     ]
    }
   ],
   "source": [
    "!wget https://www.dropbox.com/s/l98leemr7r5stnm/Hemanvi.jpeg"
   ]
  }
 ],
 "metadata": {
  "kernelspec": {
   "display_name": "Python 3",
   "language": "python",
   "name": "python3"
  },
  "language_info": {
   "codemirror_mode": {
    "name": "ipython",
    "version": 3
   },
   "file_extension": ".py",
   "mimetype": "text/x-python",
   "name": "python",
   "nbconvert_exporter": "python",
   "pygments_lexer": "ipython3",
   "version": "3.10.6"
  },
  "orig_nbformat": 4
 },
 "nbformat": 4,
 "nbformat_minor": 2
}
